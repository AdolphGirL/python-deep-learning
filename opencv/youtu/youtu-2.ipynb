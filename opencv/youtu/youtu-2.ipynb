{
 "cells": [
  {
   "cell_type": "code",
   "execution_count": 2,
   "metadata": {},
   "outputs": [],
   "source": [
    "import cv2\n",
    "import matplotlib.pyplot as plt\n",
    "import numpy as np\n",
    "\n",
    "%matplotlib inline"
   ]
  },
  {
   "cell_type": "code",
   "execution_count": 3,
   "metadata": {},
   "outputs": [],
   "source": [
    "import os"
   ]
  },
  {
   "cell_type": "code",
   "execution_count": 4,
   "metadata": {},
   "outputs": [
    {
     "data": {
      "text/plain": [
       "array([[[125, 137, 225],\n",
       "        [130, 137, 224],\n",
       "        [125, 137, 225],\n",
       "        ...,\n",
       "        [125, 149, 233],\n",
       "        [121, 145, 229],\n",
       "        [101, 115, 211]],\n",
       "\n",
       "       [[125, 137, 225],\n",
       "        [130, 137, 224],\n",
       "        [125, 137, 225],\n",
       "        ...,\n",
       "        [125, 149, 233],\n",
       "        [121, 145, 229],\n",
       "        [101, 115, 211]],\n",
       "\n",
       "       [[125, 137, 225],\n",
       "        [130, 136, 225],\n",
       "        [127, 137, 225],\n",
       "        ...,\n",
       "        [125, 149, 233],\n",
       "        [118, 144, 228],\n",
       "        [101, 115, 211]],\n",
       "\n",
       "       ...,\n",
       "\n",
       "       [[ 63,  28,  92],\n",
       "        [ 61,  26,  90],\n",
       "        [ 65,  28,  92],\n",
       "        ...,\n",
       "        [ 79,  63, 157],\n",
       "        [ 78,  65, 167],\n",
       "        [ 76,  62, 164]],\n",
       "\n",
       "       [[ 60,  21,  83],\n",
       "        [ 59,  23,  89],\n",
       "        [ 65,  26,  94],\n",
       "        ...,\n",
       "        [ 81,  67, 168],\n",
       "        [ 79,  70, 174],\n",
       "        [ 80,  67, 177]],\n",
       "\n",
       "       [[ 58,  22,  82],\n",
       "        [ 58,  30,  90],\n",
       "        [ 64,  30,  95],\n",
       "        ...,\n",
       "        [ 82,  71, 175],\n",
       "        [ 77,  71, 180],\n",
       "        [ 80,  74, 183]]], dtype=uint8)"
      ]
     },
     "execution_count": 4,
     "metadata": {},
     "output_type": "execute_result"
    }
   ],
   "source": [
    "file_img = os.curdir + os.sep + 'data' + os.sep + 'Lenna.jpg'\n",
    "img = cv2.imread(file_img)\n",
    "img"
   ]
  },
  {
   "cell_type": "code",
   "execution_count": 9,
   "metadata": {},
   "outputs": [],
   "source": [
    "cv2.imshow('image', img)\n",
    "cv2.waitKey(0)\n",
    "cv2.destroyAllWindows()"
   ]
  },
  {
   "cell_type": "code",
   "execution_count": 10,
   "metadata": {},
   "outputs": [],
   "source": [
    "def cv_show(name, img):\n",
    "    cv2.imshow(name, img)\n",
    "    cv2.waitKey(0)\n",
    "    cv2.destroyAllWindows()"
   ]
  },
  {
   "cell_type": "code",
   "execution_count": 11,
   "metadata": {},
   "outputs": [],
   "source": [
    "cv_show('image', img)"
   ]
  },
  {
   "cell_type": "code",
   "execution_count": 12,
   "metadata": {},
   "outputs": [
    {
     "data": {
      "text/plain": [
       "(316, 316)"
      ]
     },
     "execution_count": 12,
     "metadata": {},
     "output_type": "execute_result"
    }
   ],
   "source": [
    "b, g, r = cv2.split(img)\n",
    "b.shape"
   ]
  },
  {
   "cell_type": "code",
   "execution_count": 13,
   "metadata": {},
   "outputs": [
    {
     "data": {
      "text/plain": [
       "array([[125, 130, 125, ..., 125, 121, 101],\n",
       "       [125, 130, 125, ..., 125, 121, 101],\n",
       "       [125, 130, 127, ..., 125, 118, 101],\n",
       "       ...,\n",
       "       [ 63,  61,  65, ...,  79,  78,  76],\n",
       "       [ 60,  59,  65, ...,  81,  79,  80],\n",
       "       [ 58,  58,  64, ...,  82,  77,  80]], dtype=uint8)"
      ]
     },
     "execution_count": 13,
     "metadata": {},
     "output_type": "execute_result"
    }
   ],
   "source": [
    "b"
   ]
  },
  {
   "cell_type": "code",
   "execution_count": 15,
   "metadata": {},
   "outputs": [],
   "source": [
    "img_m = cv2.merge((r, g, b))\n",
    "cv_show('image', img_m)"
   ]
  },
  {
   "cell_type": "code",
   "execution_count": null,
   "metadata": {},
   "outputs": [],
   "source": []
  }
 ],
 "metadata": {
  "kernelspec": {
   "display_name": "Python 3",
   "language": "python",
   "name": "python3"
  },
  "language_info": {
   "codemirror_mode": {
    "name": "ipython",
    "version": 3
   },
   "file_extension": ".py",
   "mimetype": "text/x-python",
   "name": "python",
   "nbconvert_exporter": "python",
   "pygments_lexer": "ipython3",
   "version": "3.6.5"
  }
 },
 "nbformat": 4,
 "nbformat_minor": 4
}
